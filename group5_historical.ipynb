{
 "cells": [
  {
   "cell_type": "code",
   "execution_count": null,
   "id": "72f21657-ba20-40c0-8662-fd7e21a950a3",
   "metadata": {},
   "outputs": [],
   "source": [
    "import requests\n",
    "import pandas as pd\n",
    "from time import sleep\n",
    "from datetime import datetime"
   ]
  },
  {
   "cell_type": "code",
   "execution_count": null,
   "id": "f1589fbf-5ad9-47fd-9c15-7ce01476628d",
   "metadata": {},
   "outputs": [],
   "source": [
    "# Define the base URL for the API\n",
    "base_url = \"https://data.cityofnewyork.us/resource/8h9b-rp9u.json\"\n",
    "\n",
    "# Define headers including the app token\n",
    "headers = {\n",
    "    'X-App-Token': 'gcDEQgxy8Z5tdm905ovo9OhrQ'\n",
    "}\n",
    "\n",
    "# Function to handle pagination, fetch all data, and implement a delay between requests\n",
    "def fetch_all_data(base_url, headers, start_date, end_date):\n",
    "    limit = 50000  # Adjust the limit as needed, depending on what the API allows\n",
    "    offset = 0\n",
    "    full_data = []\n",
    "\n",
    "    # Format start and end dates for the API call\n",
    "    formatted_start_date = datetime.strptime(start_date, \"%Y-%m-%d\").strftime('%Y-%m-%dT%H:%M:%S.%f')\n",
    "    formatted_end_date = datetime.strptime(end_date, \"%Y-%m-%d\").strftime('%Y-%m-%dT%H:%M:%S.%f')\n",
    "\n",
    "    while True:\n",
    "        # Construct the query with pagination and date filtering\n",
    "        query_url = f\"{base_url}?$limit={limit}&$offset={offset}\" \\\n",
    "                    f\"&$where=ARREST_DATE between '{formatted_start_date}' and '{formatted_end_date}'\"\n",
    "        \n",
    "        response = requests.get(query_url, headers=headers)\n",
    "        if response.status_code != 200:\n",
    "            print(f\"Failed to fetch data: HTTP Status Code {response.status_code}\")\n",
    "            break\n",
    "        \n",
    "        data = response.json()\n",
    "        if not data:\n",
    "            break  # Break the loop if no more data is returned\n",
    "        \n",
    "        full_data.extend(data)\n",
    "        offset += limit\n",
    "        \n",
    "        # Sleep for 5 seconds before making the next request\n",
    "        sleep(5)\n",
    "    \n",
    "    return full_data\n",
    "\n",
    "# Set your desired date range\n",
    "start_date = '2014-01-01'\n",
    "end_date = '2023-12-31'\n",
    "\n",
    "# Fetch all data using the defined function\n",
    "all_data = fetch_all_data(base_url, headers, start_date, end_date)\n",
    "\n",
    "# Create a DataFrame from the fetched data\n",
    "historical_df = pd.DataFrame(all_data)\n"
   ]
  },
  {
   "cell_type": "code",
   "execution_count": null,
   "id": "9821db35-c16f-46c8-b8e7-fabf678523ae",
   "metadata": {},
   "outputs": [],
   "source": [
    "print(historical_df.shape[0])"
   ]
  },
  {
   "cell_type": "code",
   "execution_count": null,
   "id": "29925ed8-07e6-4161-a5c9-36200ee9bae0",
   "metadata": {},
   "outputs": [],
   "source": [
    "# Converting the list of data into a DataFrame\n",
    "historical_df = pd.DataFrame(all_data)\n",
    "historical_df"
   ]
  },
  {
   "cell_type": "code",
   "execution_count": null,
   "id": "b99d2338-0335-4a27-bf20-b4e880e17426",
   "metadata": {},
   "outputs": [],
   "source": [
    "historical_df.dtypes"
   ]
  },
  {
   "cell_type": "code",
   "execution_count": null,
   "id": "6477b078-4fb9-49d7-809f-e84d88576443",
   "metadata": {},
   "outputs": [],
   "source": [
    "arrest_counts = historical_df.groupby('arrest_date').size()\n",
    "arrest_counts.plot()"
   ]
  },
  {
   "cell_type": "code",
   "execution_count": null,
   "id": "5e1be319-bc0e-4c15-b027-c2b96692372d",
   "metadata": {},
   "outputs": [],
   "source": [
    "historical_df['ofns_desc'].value_counts()"
   ]
  },
  {
   "cell_type": "code",
   "execution_count": null,
   "id": "71ca43fc-81fc-463f-aeae-f35458a9acf3",
   "metadata": {},
   "outputs": [],
   "source": [
    "queens_data = historical_df[historical_df['arrest_boro'] == 'Q']\n",
    "queens_crimes_per_year = queens_data.groupby('Year').size()\n",
    "queens_crimes_per_year.plot()\n"
   ]
  }
 ],
 "metadata": {
  "kernelspec": {
   "display_name": "Python 3 (ipykernel)",
   "language": "python",
   "name": "python3"
  },
  "language_info": {
   "codemirror_mode": {
    "name": "ipython",
    "version": 3
   },
   "file_extension": ".py",
   "mimetype": "text/x-python",
   "name": "python",
   "nbconvert_exporter": "python",
   "pygments_lexer": "ipython3",
   "version": "3.11.7"
  }
 },
 "nbformat": 4,
 "nbformat_minor": 5
}
