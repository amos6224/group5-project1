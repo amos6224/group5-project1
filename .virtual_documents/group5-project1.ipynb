import pandas as pd
import requests
import json



pip install html5lib


arrest_data = 'https://data.cityofnewyork.us/resource/uip8-fykc.json'
response_arrest_data = requests.get(arrest_data).json()
print(json.dumps(response_arrest_data, indent=4))



